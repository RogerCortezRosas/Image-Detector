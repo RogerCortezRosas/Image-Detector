{
 "cells": [
  {
   "cell_type": "code",
   "execution_count": 15,
   "metadata": {},
   "outputs": [],
   "source": [
    "import tensorflow as tf\n",
    "from tensorflow.keras.layers import  Dropout , Flatten , Dense ,GlobalAveragePooling2D,Lambda,Input\n",
    "from tensorflow.keras import models , optimizers , regularizers\n",
    "from tensorflow.keras.applications.resnet import ResNet50, preprocess_input\n",
    "from PIL import Image\n",
    "from tensorflow.keras.models import Sequential\n",
    "import numpy as np\n"
   ]
  },
  {
   "cell_type": "code",
   "execution_count": 2,
   "metadata": {},
   "outputs": [],
   "source": [
    "#Método 1: nbimporter permite importar notebooks directamente.\n",
    "# notebook_principal.ipynb\n",
    "import nbimporter\n",
    "\n",
    "# Importa la clase desde notebook_clase\n",
    "from Rescale import reScale\n",
    "#Método 2: %run ejecuta otro notebook y hace accesibles las variables y clases definidas en él.\n",
    "#%run 'Rescale.ipynb'"
   ]
  },
  {
   "cell_type": "code",
   "execution_count": null,
   "metadata": {},
   "outputs": [],
   "source": [
    "class model():\n",
    "\n",
    "    def __init__(self,image):\n",
    "        self.image = image\n",
    "\n",
    "    def creationModel():\n",
    "        # Creation of a instance of pre-train model ResNet50\n",
    "        ResNet50_conv_base  = ResNet50(weights='imagenet', include_top=False, input_shape=(224, 224, 3))\n",
    "\n",
    "        #Do not retrain layers that are already trained\n",
    "        for layer in ResNet50_conv_base.layers:\n",
    "            layer.trainable = False\n",
    "\n",
    "        # CNN Model\n",
    "        model = Sequential([\n",
    "\n",
    "        # Input Layer\n",
    "        Input(shape=(224,224,3)),\n",
    "\n",
    "        # ResNet Preprocessing (applied during training & inference)\n",
    "        Lambda(preprocess_input),\n",
    "\n",
    "        ResNet50_conv_base,    \n",
    "        \n",
    "        GlobalAveragePooling2D(),\n",
    "            \n",
    "        Flatten(),\n",
    "\n",
    "        Dense(512, activation='relu', kernel_regularizer=tf.keras.regularizers.l2(0.01)),\n",
    "        Dropout(0.3),\n",
    "        Dense(128, activation='relu', kernel_regularizer=tf.keras.regularizers.l2(0.01)),\n",
    "\n",
    "        # The final `Dense` layer with the number of classes.\n",
    "        Dense(1, activation ='sigmoid')\n",
    "        ])\n",
    "\n",
    "        return model\n",
    "    \n",
    "    def loadModel(self):\n",
    "        # Optimizer\n",
    "        opt = optimizers.AdamW(learning_rate=0.0001, weight_decay=1e-5)\n",
    "\n",
    "        #Copy architecture of the model\n",
    "        model_best = self.creationModel()\n",
    "\n",
    "        #Charge the best weigths to model_best\n",
    "        model_best.load_weights('weights/Best_Model.keras')\n",
    "\n",
    "        #Compile the model\n",
    "        model_best.compile(optimizer=opt,loss='binary_crossentropy',metrics=['accuracy'])\n",
    "\n",
    "        return model_best\n",
    "    \n",
    "    def prediction(self):\n",
    "        model_best = self.loadModel() #charge the best weight and architercture\n",
    "        obj_imagen = reScale(self.image) # instance of the class reScale\n",
    "        imagen = obj_imagen.changeScale() # call the function and return the rescale image\n",
    "        y_predict = model_best.predict(imagen)# image prediction\n",
    "        y_predict = np.where(y_predict>0.5,1,0)\n",
    "\n",
    "        return y_predict\n",
    "\n",
    "\n",
    "\n"
   ]
  },
  {
   "cell_type": "code",
   "execution_count": null,
   "metadata": {},
   "outputs": [],
   "source": [
    "#"
   ]
  }
 ],
 "metadata": {
  "kernelspec": {
   "display_name": "Python 3",
   "language": "python",
   "name": "python3"
  },
  "language_info": {
   "codemirror_mode": {
    "name": "ipython",
    "version": 3
   },
   "file_extension": ".py",
   "mimetype": "text/x-python",
   "name": "python",
   "nbconvert_exporter": "python",
   "pygments_lexer": "ipython3",
   "version": "3.10.0"
  }
 },
 "nbformat": 4,
 "nbformat_minor": 2
}
